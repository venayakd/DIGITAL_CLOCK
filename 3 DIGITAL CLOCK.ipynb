{
 "cells": [
  {
   "cell_type": "code",
   "execution_count": 6,
   "metadata": {},
   "outputs": [],
   "source": [
    "from tkinter import *\n",
    "import time\n",
    "\n",
    "root =Tk(className=\"DIGITAL CLOCK\")\n",
    "root.geometry(\"800x600\")\n",
    "root.resizable(0,0)\n",
    "\n",
    "Label(root, text=\"DIGITAL CLOCK\" ,fg=\"white\",bg=\"DarkOrchid4\",font=\"COurier 50 bold\").pack(fill=\"both\")\n",
    "\n",
    "time_lbl =Label(root, font=\"Courier 60 bold \",fg=\"white\",bg=\"MediumOrchid1\")\n",
    "time_lbl.place(x=150,y=150)\n",
    "time_lbl = Label(root,font=\"Courier 60 bold\", fg=\"white\",bg=\"Black\")\n",
    "time_lbl.place(x=150,y=150)\n",
    "\n",
    "def display():\n",
    "    time_display = time.strftime(\"%r\")\n",
    "    time_lbl.configure(text=time_display)\n",
    "    time_lbl.after(200,display)\n",
    "    current_time =int (time.strftime(\"%H\"))\n",
    "    if current_time <12:\n",
    "        Label(root,text=\"GOOD MORNING \",fg=\"white\",bg=\"MediumOrchid1\",font=\"Courier 50 bold\").place(x=150,y=250)\n",
    "    elif  current_time < 18:\n",
    "        Label(root,text=\"GOOD AFTERNOON \",fg=\"white\",bg=\"MediumOrchid1\",font=\"Courier 50 bold\").place(x=150,y=250)\n",
    "    else:\n",
    "         Label(root,text=\"GOOD NIGHT  \",fg=\"white\",bg=\"MediumOrchid1\",font=\"Courier 50 bold\").place(x=150,y=250)\n",
    "display()\n",
    "root.mainloop()"
   ]
  },
  {
   "cell_type": "code",
   "execution_count": null,
   "metadata": {},
   "outputs": [],
   "source": []
  }
 ],
 "metadata": {
  "kernelspec": {
   "display_name": "Python 3",
   "language": "python",
   "name": "python3"
  },
  "language_info": {
   "codemirror_mode": {
    "name": "ipython",
    "version": 3
   },
   "file_extension": ".py",
   "mimetype": "text/x-python",
   "name": "python",
   "nbconvert_exporter": "python",
   "pygments_lexer": "ipython3",
   "version": "3.7.6"
  }
 },
 "nbformat": 4,
 "nbformat_minor": 4
}
